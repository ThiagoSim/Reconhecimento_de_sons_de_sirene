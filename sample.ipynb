{
 "cells": [
  {
   "cell_type": "code",
   "execution_count": 1,
   "metadata": {},
   "outputs": [],
   "source": [
    "import wave\n",
    "import pylab\n",
    "import matplotlib as plt\n",
    "import numpy as np\n",
    "from scipy.signal import resample\n",
    "# https://www.kaggle.com/datasets/vishnu0399/emergency-vehicle-siren-sounds/data"
   ]
  },
  {
   "cell_type": "code",
   "execution_count": 2,
   "metadata": {},
   "outputs": [],
   "source": [
    "# função para carregar o arquivo wav\n",
    "# https://www.kaggle.com/datasets/vishnu0399/emergency-vehicle-siren-sounds/data\n",
    "def get_wav_info(wav_file):\n",
    "    wav = wave.open(wav_file, 'r')\n",
    "    frames = wav.readframes(-1)\n",
    "    sound_info = pylab.fromstring(frames, 'int16')\n",
    "    frame_rate = wav.getframerate()\n",
    "    wav.close()\n",
    "    return sound_info, frame_rate"
   ]
  },
  {
   "cell_type": "code",
   "execution_count": 9,
   "metadata": {},
   "outputs": [
    {
     "name": "stderr",
     "output_type": "stream",
     "text": [
      "C:\\Users\\Thiago\\AppData\\Local\\Temp\\ipykernel_15288\\1399090854.py:5: DeprecationWarning: The binary mode of fromstring is deprecated, as it behaves surprisingly on unicode inputs. Use frombuffer instead\n",
      "  sound_info = pylab.fromstring(frames, 'int16')\n"
     ]
    },
    {
     "data": {
      "text/plain": [
       "(810, 7500, 1)"
      ]
     },
     "execution_count": 9,
     "metadata": {},
     "output_type": "execute_result"
    }
   ],
   "source": [
    "fs_original = 44100\n",
    "fs_new = 2500  # New freq. amostragem\n",
    "traffic_sounds = []\n",
    "\n",
    "for s in range(401,601,1):\n",
    "    wav_file = f\"traffic/sound_{s}.wav\"\n",
    "    sound_info, frame_rate = get_wav_info(wav_file)\n",
    "    num_samples = int(len(sound_info) * fs_new / fs_original)\n",
    "    downsampled_signal = resample(sound_info, num_samples)\n",
    "    for i in range(len(downsampled_signal)):\n",
    "        traffic_sounds.append(downsampled_signal[i])\n",
    "\n",
    "for s in range(201,401,1):\n",
    "    wav_file = f\"traffic/sound_{s}.wav\"\n",
    "    sound_info, frame_rate = get_wav_info(wav_file)\n",
    "    num_samples = int(len(sound_info) * fs_new / fs_original)\n",
    "    downsampled_signal = resample(sound_info, num_samples)\n",
    "    for i in range(len(downsampled_signal)):\n",
    "        traffic_sounds.append(downsampled_signal[i])\n",
    "\n",
    "traffic_sounds_np = np.array(traffic_sounds,dtype=int)\n",
    "\n",
    "len_janela = int(fs_new*3)\n",
    "exemplos = int(traffic_sounds_np[0:6075000].shape[0]/len_janela)\n",
    "\n",
    "x2 = traffic_sounds_np[0:6075000].reshape((exemplos, len_janela, 1))\n",
    "x2.shape"
   ]
  },
  {
   "cell_type": "code",
   "execution_count": 13,
   "metadata": {},
   "outputs": [
    {
     "name": "stderr",
     "output_type": "stream",
     "text": [
      "C:\\Users\\Thiago\\AppData\\Local\\Temp\\ipykernel_15288\\1399090854.py:5: DeprecationWarning: The binary mode of fromstring is deprecated, as it behaves surprisingly on unicode inputs. Use frombuffer instead\n",
      "  sound_info = pylab.fromstring(frames, 'int16')\n"
     ]
    },
    {
     "data": {
      "text/plain": [
       "(390, 7500, 1)"
      ]
     },
     "execution_count": 13,
     "metadata": {},
     "output_type": "execute_result"
    }
   ],
   "source": [
    "fs_original = 44100\n",
    "fs_new = 2500  # New freq. amostragem\n",
    "ambulance_sounds = []\n",
    "\n",
    "for s in range(1,201,1):\n",
    "    wav_file = f\"ambulance/sound_{s}.wav\"\n",
    "    sound_info, frame_rate = get_wav_info(wav_file)\n",
    "    num_samples = int(len(sound_info) * fs_new / fs_original)\n",
    "    downsampled_signal = resample(sound_info, num_samples)\n",
    "    for i in range(len(downsampled_signal)):\n",
    "        ambulance_sounds.append(downsampled_signal[i])\n",
    "\n",
    "ambulance_sounds_np = np.array(ambulance_sounds,dtype=int)\n",
    "len_janela = int(fs_new*3)\n",
    "exemplos = int(ambulance_sounds_np[0:2925000].shape[0]/len_janela)\n",
    "\n",
    "x1 = ambulance_sounds_np[0:2925000].reshape((exemplos, len_janela, 1))\n",
    "x1.shape"
   ]
  },
  {
   "cell_type": "code",
   "execution_count": 19,
   "metadata": {},
   "outputs": [],
   "source": [
    "x = np.zeros((int(390*2), 7500, 1))\n",
    "y = []\n",
    "cont = 0\n",
    "for i in range(390):\n",
    "    x[cont] = (x1[i])\n",
    "    y.append(1)\n",
    "    cont += 1\n",
    "    x[cont] = (x2[i])\n",
    "    y.append(0)\n",
    "    cont += 1"
   ]
  },
  {
   "cell_type": "markdown",
   "metadata": {},
   "source": [
    "##### Normaliza primeiro os dados de treino e depois utiliza valores min e max dos dados de treino para normalizar os dados de teste"
   ]
  },
  {
   "cell_type": "code",
   "execution_count": 20,
   "metadata": {},
   "outputs": [],
   "source": [
    "x_train = x[0:624]\n",
    "x_test = x[624:780]\n",
    "\n",
    "#normaliza x_treino\n",
    "min_val = np.min(x_train)\n",
    "max_val = np.max(x_train)\n",
    "\n",
    "x_train_norm = (x_train - min_val) / (max_val - min_val)\n",
    "x_test_norm = (x_test - min_val) / (max_val - min_val)"
   ]
  },
  {
   "cell_type": "code",
   "execution_count": 22,
   "metadata": {},
   "outputs": [],
   "source": [
    "y_train = y[0:624]\n",
    "y_test = y[624:780]\n",
    "\n",
    "np.save('x_train.npy', x_train_norm)\n",
    "np.save('x_test.npy', x_test_norm)\n",
    "\n",
    "np.save('y_train.npy', y_train)\n",
    "np.save('y_test.npy', y_test)\n",
    "# loaded_array = np.load('x_3d.npy')"
   ]
  },
  {
   "cell_type": "code",
   "execution_count": null,
   "metadata": {},
   "outputs": [],
   "source": []
  },
  {
   "cell_type": "code",
   "execution_count": null,
   "metadata": {},
   "outputs": [],
   "source": []
  }
 ],
 "metadata": {
  "kernelspec": {
   "display_name": "Python 3",
   "language": "python",
   "name": "python3"
  },
  "language_info": {
   "codemirror_mode": {
    "name": "ipython",
    "version": 3
   },
   "file_extension": ".py",
   "mimetype": "text/x-python",
   "name": "python",
   "nbconvert_exporter": "python",
   "pygments_lexer": "ipython3",
   "version": "3.9.16"
  }
 },
 "nbformat": 4,
 "nbformat_minor": 2
}
